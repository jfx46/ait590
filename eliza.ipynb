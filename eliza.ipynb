{
 "cells": [
  {
   "cell_type": "code",
   "execution_count": 1,
   "metadata": {},
   "outputs": [
    {
     "name": "stdout",
     "output_type": "stream",
     "text": [
      "Requirement already satisfied: nltk in c:\\users\\wongu\\anaconda3\\lib\\site-packages (3.4.5)\n",
      "Requirement already satisfied: six in c:\\users\\wongu\\anaconda3\\lib\\site-packages (from nltk) (1.12.0)\n",
      "Note: you may need to restart the kernel to use updated packages.\n"
     ]
    }
   ],
   "source": [
    "pip install nltk\n"
   ]
  },
  {
   "cell_type": "code",
   "execution_count": 18,
   "metadata": {},
   "outputs": [
    {
     "name": "stderr",
     "output_type": "stream",
     "text": [
      "[nltk_data] Downloading package punkt to\n",
      "[nltk_data]     C:\\Users\\wongu\\AppData\\Roaming\\nltk_data...\n",
      "[nltk_data]   Package punkt is already up-to-date!\n"
     ]
    }
   ],
   "source": [
    "import nltk\n",
    "nltk.download('punkt')\n",
    "#nltk.download()\n",
    "\n",
    "from nltk.tokenize import word_tokenize\n",
    "from nltk.corpus import stopwords\n",
    "from nltk.stem import WordNetLemmatizer\n",
    "\n",
    "import random\n",
    "\n"
   ]
  },
  {
   "cell_type": "code",
   "execution_count": 34,
   "metadata": {},
   "outputs": [],
   "source": [
    "#stop_words = set(stopwords.words('english'))\n",
    "\n",
    "user_name = \"\"\n",
    "\n",
    "exit_input = (\"bye\", \"exit\", \"farewell\")\n",
    "exit_output = (\"Good bye.\", \"See you later.\", \"It was good talking to you. Bye.\", \"Have a great day!\")\n",
    "\n",
    "greeting_output = [\"Hello\", \"Hi\"]\n"
   ]
  },
  {
   "cell_type": "code",
   "execution_count": 40,
   "metadata": {},
   "outputs": [],
   "source": [
    "#This function tokenizes the user input\n",
    "#Takes in 1 parameter: user input\n",
    "#returns tokens\n",
    "#use nltk\n",
    "\n",
    "\n",
    "\n",
    "\n",
    "def process_input(user_input):\n",
    "    user_input = user_input.lower()# converts to lowercase\n",
    "    #tokenize\n",
    "    word_tokens = word_tokenize(user_input)\n",
    "    \n",
    "    #remove stop words\n",
    "        \n",
    "    \n",
    "    #print(user_response)\n",
    "    \n",
    "    for word in word_tokens:\n",
    "        if word in exit_input:\n",
    "            print(random.choice(exit_output))\n",
    "            return false\n",
    "        if word in (\"scared\", \"afraid\"):\n",
    "            print(\"Everything will be ok. Tell me why you're afraid.\")\n",
    "            return true\n",
    "    \n"
   ]
  },
  {
   "cell_type": "code",
   "execution_count": null,
   "metadata": {},
   "outputs": [],
   "source": []
  },
  {
   "cell_type": "code",
   "execution_count": 35,
   "metadata": {},
   "outputs": [],
   "source": [
    "#This function greets the user \n",
    "#Takes in 1 parameter: name\n",
    "#optional bonus:  change greeting based on time of day, e.g., good morning, good afternoon, good evening\n",
    "def process_name(name):\n",
    "    return(\"[eliza]:\"+ random.choice(greeting_output)+ \", \" + name )"
   ]
  },
  {
   "cell_type": "code",
   "execution_count": null,
   "metadata": {},
   "outputs": [
    {
     "name": "stdin",
     "output_type": "stream",
     "text": [
      "[eliza]: hi, I'm a psychotherapist. What is your name? h\n"
     ]
    },
    {
     "name": "stdout",
     "output_type": "stream",
     "text": [
      "[eliza]:Hi, h\n"
     ]
    },
    {
     "name": "stdin",
     "output_type": "stream",
     "text": [
      "[eliza]: How can I help you today? bye\n"
     ]
    },
    {
     "name": "stdout",
     "output_type": "stream",
     "text": [
      "Good bye.\n"
     ]
    }
   ],
   "source": [
    "user_input = input(\"[eliza]: hi, I'm a psychotherapist. What is your name?\")\n",
    "\n",
    "print(process_name(user_input))\n",
    "user_input = input(\"[eliza]: How can I help you today?\")\n",
    "\n",
    "chatting = True\n",
    "while chatting:\n",
    "    \n",
    "    user_input = user_input.lower()# converts to lowercase\n",
    "    \n",
    "    word_tokens = word_tokenize(user_input) #tokenize\n",
    "    \n",
    "    for word in word_tokens:\n",
    "        if word in exit_input:\n",
    "            print(random.choice(exit_output))\n",
    "            chatting = False\n",
    "        if word in (\"scared\", \"afraid\"):\n",
    "            print(\"Everything will be ok. \")\n",
    "            user_input = input(\"Tell me why you're afraid.\")\n",
    "            chatting = True\n",
    "        if word in (\"sad\", \"frustrated\"):\n",
    "            user_input = input(\"Do you want to talk about it?\")\n",
    "            chatting = True\n",
    "        if word in (\"yes\", \"sure\"):\n",
    "            user_input = input(\"I'm all ears. Talk to me.\")\n",
    "            chatting = True\n",
    "        else:\n",
    "            user_input = input(\"I didn't get that. Can you elaborate?\")\n",
    "            chatting = True\n",
    "\n",
    "\n",
    "#greet(name)\n",
    "#user_request = input(\"[eliza]How can I help you today?\")\n",
    "#additional work needed; tokenize, word spotting, etc.\n",
    "#user_request = input(\"[eliza]: \" + name + \", why do you want to \" + user_request + \"?\")"
   ]
  },
  {
   "cell_type": "code",
   "execution_count": null,
   "metadata": {},
   "outputs": [],
   "source": []
  }
 ],
 "metadata": {
  "kernelspec": {
   "display_name": "Python 3",
   "language": "python",
   "name": "python3"
  },
  "language_info": {
   "codemirror_mode": {
    "name": "ipython",
    "version": 3
   },
   "file_extension": ".py",
   "mimetype": "text/x-python",
   "name": "python",
   "nbconvert_exporter": "python",
   "pygments_lexer": "ipython3",
   "version": "3.7.4"
  }
 },
 "nbformat": 4,
 "nbformat_minor": 4
}
